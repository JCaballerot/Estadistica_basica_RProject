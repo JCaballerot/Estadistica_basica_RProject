{
  "nbformat": 4,
  "nbformat_minor": 0,
  "metadata": {
    "colab": {
      "provenance": [],
      "authorship_tag": "ABX9TyP5sSUaUH9sGxETRzSdyaFC",
      "include_colab_link": true
    },
    "kernelspec": {
      "name": "python3",
      "display_name": "Python 3"
    },
    "language_info": {
      "name": "python"
    }
  },
  "cells": [
    {
      "cell_type": "markdown",
      "metadata": {
        "id": "view-in-github",
        "colab_type": "text"
      },
      "source": [
        "<a href=\"https://colab.research.google.com/github/JCaballerot/Estadistica_basica_RProject/blob/main/Laboratorio.ipynb\" target=\"_parent\"><img src=\"https://colab.research.google.com/assets/colab-badge.svg\" alt=\"Open In Colab\"/></a>"
      ]
    },
    {
      "cell_type": "code",
      "source": [
        "# Importamos la data de precio de inmuebles \n",
        "library(readr)\n",
        "df <- read.csv(\"house_price_data.csv\")\n",
        "View(df)"
      ],
      "metadata": {
        "id": "5aezq3hUmDLS"
      },
      "execution_count": null,
      "outputs": []
    },
    {
      "cell_type": "code",
      "source": [
        "\n",
        "# Cálculo de variables de antiguedad\n",
        "help(substr)\n",
        "\n",
        "df$antiguedad = as.numeric(substr(df$date, 1, 4)) - df$yr_built\n"
      ],
      "metadata": {
        "id": "RY0DKKQdmE7n"
      },
      "execution_count": null,
      "outputs": []
    },
    {
      "cell_type": "markdown",
      "source": [
        "##1. Medidas de tendencia central\n"
      ],
      "metadata": {
        "id": "IcFP7a6MmGDx"
      }
    },
    {
      "cell_type": "code",
      "source": [
        "### Análisis de medias\n",
        "\n",
        "# Veamos cuales son los tres estados con mayor precio promedio de inmuebles\n",
        "mean(df$price)\n",
        "dfRes = aggregate(df$price, list(df$city), FUN=mean) \n",
        "dfRes = dfRes[order(dfRes$x, decreasing=TRUE), ]\n",
        "head(dfRes, 3)\n",
        "# ¿cuáles son los tres estados con menor precio promedio de inmuebles?\n"
      ],
      "metadata": {
        "id": "XLlE6C91mKxH"
      },
      "execution_count": null,
      "outputs": []
    },
    {
      "cell_type": "code",
      "source": [
        "### Análisis de medianas\n",
        "\n",
        "# Veamos cuales son los tres estados con mayor mediana de precio de inmuebles\n",
        "median(df$price)\n",
        "dfRes = aggregate(df$price, list(df$city), FUN=median) \n",
        "dfRes = dfRes[order(dfRes$x, decreasing=TRUE), ]\n",
        "head(dfRes, 3)\n",
        "# ¿Los resultados coinciden?, ¿A qué podrían deverse las diferencias?"
      ],
      "metadata": {
        "id": "A0lxMPARmPnn"
      },
      "execution_count": null,
      "outputs": []
    },
    {
      "cell_type": "code",
      "source": [
        "\n",
        "### Análicemos los outliers en la variable\n",
        "\n",
        "# Boxplot\n",
        "boxplot(df$price, horizontal = TRUE)\n",
        "# ¿La variable presenta outliers?, ¿Qué tipo de tratamiento podríamos aplicar?\n",
        "\n",
        "install.packages(\"dplyr\")  \n",
        "library(dplyr)             \n",
        "df_filtered <- filter(df, df$city %in% c(\"Medina\", \"Yarrow Point\", \"Clyde Hill\"))\n",
        "boxplot(price ~ city, data = df_filtered)"
      ],
      "metadata": {
        "id": "4WKWBlXzmT4F"
      },
      "execution_count": null,
      "outputs": []
    },
    {
      "cell_type": "code",
      "source": [
        "### Tratamiento de outliers\n",
        "Q1 <- quantile(df$price, c(0.25))\n",
        "Q3 <- quantile(df$price, c(0.75))\n",
        "\n",
        "replace_outliers <- function(x, removeNA = TRUE){\n",
        "  qrts <- quantile(x, probs = c(0.25, 0.75), na.rm = removeNA)\n",
        "  iqr <- qrts[2]-qrts[1]\n",
        "  h <- 1.5 * iqr\n",
        "  x[x<qrts[1]-h] <- qrts[1]-h\n",
        "  x[x>qrts[2]+h] <- qrts[2]+h\n",
        "  x}\n",
        "\n",
        "df$price_treat <- replace_outliers(df$price)\n",
        "boxplot(df$price_treat, horizontal = TRUE)\n",
        "summary(df)"
      ],
      "metadata": {
        "id": "gaMehhNomV49"
      },
      "execution_count": null,
      "outputs": []
    },
    {
      "cell_type": "markdown",
      "source": [
        "##2. Medidas de variabilidad\n"
      ],
      "metadata": {
        "id": "M1aMmWVvmb3V"
      }
    },
    {
      "cell_type": "code",
      "source": [
        "### Histograma Simple \n",
        "hist(df$price_treat)"
      ],
      "metadata": {
        "id": "_w8TMotpmd_z"
      },
      "execution_count": null,
      "outputs": []
    },
    {
      "cell_type": "code",
      "source": [
        "### Desviación estándar\n",
        "sd(df$price_treat)\n",
        "\n",
        "mean(df$price_treat) - sd(df$price_treat)\n",
        "mean(df$price_treat) + sd(df$price_treat)\n",
        "\n",
        "# ¿Que variable presenta mayor variabilidad, el número de baños o el número de pisos?\n",
        "sd(df$bathrooms)\n",
        "sd(df$sqft_living)"
      ],
      "metadata": {
        "id": "YW54b_4GmfT5"
      },
      "execution_count": null,
      "outputs": []
    },
    {
      "cell_type": "code",
      "source": [
        "### coeficiente de variación\n",
        "cv_bathrooms = sd(df$bathrooms) / abs(mean(df$bathrooms))\n",
        "cv_sqft_living    = sd(df$sqft_living) / abs(mean(df$sqft_living))\n",
        "\n",
        "print(cv_bathrooms)\n",
        "print(cv_sqft_living)\n",
        "\n",
        "# calcule el coeficiente de variación de tres variables más e indique cuál es la que presenta mayor variabilidad\n"
      ],
      "metadata": {
        "id": "caBM1pzfmjBH"
      },
      "execution_count": null,
      "outputs": []
    },
    {
      "cell_type": "markdown",
      "source": [
        "##3. Distribuciones de probabilidad\n"
      ],
      "metadata": {
        "id": "TT1tHy2KmnbO"
      }
    },
    {
      "cell_type": "code",
      "source": [
        "hist(df$price_treat)"
      ],
      "metadata": {
        "id": "KOIvFFmLmp3J"
      },
      "execution_count": null,
      "outputs": []
    },
    {
      "cell_type": "code",
      "source": [
        "### Test de normalidad \n",
        "#Test de Shapiro-Wilk\n",
        "\n",
        "shapiro.test( x = df$price_treat )\n",
        "\n",
        "# Simulando una muestra con distribución normal\n",
        "help(rnorm)\n",
        "sample_norm = rnorm(1000)\n",
        "hist(sample_norm)\n",
        "\n",
        "shapiro.test( x = sample_norm )\n",
        "\n",
        "# realice una prueba de hipótesis para otras variables del dataset, ¿alguna de ellas cumple con el criterio de normalidad?\n"
      ],
      "metadata": {
        "id": "0lhL4W3QmtOY"
      },
      "execution_count": null,
      "outputs": []
    },
    {
      "cell_type": "code",
      "source": [
        "\n",
        "\n",
        "### Intervalos de confianza\n",
        "\n",
        "# intervalo de confianza al 95%\n",
        "LI <- mean(df$price_treat) - 1.96*sd(df$price_treat)\n",
        "LS <- mean(df$price_treat) + 1.96*sd(df$price_treat)\n",
        "sprintf(\"El intervalo de confianza al 95 de confianza de la variable precio va de %s a %s\", LI, LS)\n",
        "\n",
        "# intervalo de confianza al 99%\n",
        "LI <- mean(df$price_treat) - 2.52*sd(df$price_treat)\n",
        "LS <- mean(df$price_treat) + 2.52*sd(df$price_treat)\n",
        "sprintf(\"El intervalo de confianza al 99 de confianza de la variable precio va de %s a %s\", LI, LS)\n",
        "\n",
        "# Calcule el intervalo de confianza para dos variables más al 90%, 95% y 99%\n",
        "\n"
      ],
      "metadata": {
        "id": "WVQrbldtmvtW"
      },
      "execution_count": null,
      "outputs": []
    },
    {
      "cell_type": "markdown",
      "source": [
        "##4. Regresión Lineal"
      ],
      "metadata": {
        "id": "VUGe_ULBmw81"
      }
    },
    {
      "cell_type": "code",
      "source": [
        "\n",
        "### Simple Scatterplot\n",
        "help(sample_n)\n",
        "df_sample = sample_n(df, 500)\n",
        "\n",
        "plot(df_sample$bedrooms, df_sample$price_treat)\n",
        "plot(df_sample$bedrooms, df_sample$price_treat, main=\"Scatterplot\",\n",
        "     xlab=\"Area del livingt \", ylab=\"Precio del inmueble\")\n",
        "\n",
        "# Agregar línea\n",
        "abline(lm(df_sample$price_treat~df_sample$bedrooms), col=\"red\") # regression line (y~x)\n",
        "\n",
        "# Realice un Scatterplot de tres variables más y señale el tipo de relación entre los datos \n"
      ],
      "metadata": {
        "id": "3axu9mAjmyox"
      },
      "execution_count": null,
      "outputs": []
    },
    {
      "cell_type": "code",
      "source": [
        "\n",
        "### Correlación entre variables\n",
        "\n",
        "cor(df_sample$bedrooms, df_sample$price_treat)\n",
        "cor(df_sample$antiguedad, df_sample$price_treat)\n",
        "\n",
        "# Calcule la correlación entre 3 variables más e indique cuál de ellas presenta una mayor relación con el target\n",
        "\n",
        "# Test de correlación\n",
        "cor.test(df_sample$bedrooms, df_sample$price_treat)\n",
        "cor.test(df_sample$antiguedad, df_sample$price_treat)\n",
        "\n",
        "# Calcule un test de correlación entre 3 variables más y analice los resultados\n",
        "\n",
        "\n",
        "# Coeficiente de contingencia\n",
        "table(df$condition, df$view)\n",
        "\n",
        "help(chisq.test)\n",
        "chisq.test(df$condition, df$view)\n",
        "chi <- chisq.test(df$condition, df$view)\n",
        "coef_conting = sqrt(chi$statistic / (chi$statistic + length(df$condition)))\n",
        "\n"
      ],
      "metadata": {
        "id": "EeFU5QXym0_e"
      },
      "execution_count": null,
      "outputs": []
    },
    {
      "cell_type": "code",
      "execution_count": null,
      "metadata": {
        "id": "UQTZU6S5l7nV"
      },
      "outputs": [],
      "source": [
        "\n",
        "### Regresión lineal simple\n",
        "\n",
        "reg1 <- lm(price_treat ~ bedrooms, data = df)\n",
        "summary(reg1)\n",
        "\n",
        "par(mfrow = c(2, 2))\n",
        "plot(reg1)\n",
        "\n",
        "# Residual vs Fitted: Deberia estar distribuidos aleatoriamente alrededor de\n",
        "# la linea horizontal que representa un error residual de cero\n",
        "\n",
        "# Normal Q-Q: deberia sugerir que los errores residuales se distribuyen\n",
        "# normalmente.\n",
        "\n",
        "# Scale-Location Muestra la raiz cuadrada de los residuos estandarizados,\n",
        "# como una funcion de los valores ajustados. No deberia existir una\n",
        "# tendencia clara en ese trama.\n",
        "\n",
        "# Residual vs Leverage Las distancias mas grandes que 1 son sospechosos y\n",
        "# sugieren la presencia de un valor atipico posible. y su eliminacion podria\n",
        "# tener efectos sobre la regresion.\n",
        "\n"
      ]
    },
    {
      "cell_type": "code",
      "source": [
        "\n",
        "### Regresión lineal múltiple\n",
        "\n",
        "reg1 <- lm(price_treat ~ bedrooms + antiguedad, data = df)\n",
        "summary(reg1)\n",
        "\n",
        "par(mfrow = c(2, 2))\n",
        "plot(reg1)\n",
        "\n",
        "plot(df$bedrooms, df$price_treat)\n",
        "abline(reg1) \n",
        "\n"
      ],
      "metadata": {
        "id": "qMPL-DPQm3bN"
      },
      "execution_count": null,
      "outputs": []
    }
  ]
}